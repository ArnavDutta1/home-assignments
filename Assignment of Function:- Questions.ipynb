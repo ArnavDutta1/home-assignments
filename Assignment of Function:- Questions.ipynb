{
  "nbformat": 4,
  "nbformat_minor": 0,
  "metadata": {
    "colab": {
      "name": "Copy of Function-Questions.ipynb",
      "provenance": [],
      "collapsed_sections": [],
      "include_colab_link": true
    },
    "kernelspec": {
      "display_name": "Python 3",
      "language": "python",
      "name": "python3"
    },
    "language_info": {
      "codemirror_mode": {
        "name": "ipython",
        "version": 3
      },
      "file_extension": ".py",
      "mimetype": "text/x-python",
      "name": "python",
      "nbconvert_exporter": "python",
      "pygments_lexer": "ipython3",
      "version": "3.8.8"
    }
  },
  "cells": [
    {
      "cell_type": "markdown",
      "metadata": {
        "id": "view-in-github",
        "colab_type": "text"
      },
      "source": [
        "<a href=\"https://colab.research.google.com/github/ArnavDutta1/home-assignments/blob/main/Assignment%20of%20Function%3A-%20Questions.ipynb\" target=\"_parent\"><img src=\"https://colab.research.google.com/assets/colab-badge.svg\" alt=\"Open In Colab\"/></a>"
      ]
    },
    {
      "cell_type": "markdown",
      "metadata": {
        "id": "VtM_1fUHQZjs"
      },
      "source": [
        "**[Slide No.69]**\n",
        "\n",
        "1. Write a function to print Hello world! ."
      ]
    },
    {
      "cell_type": "code",
      "metadata": {
        "id": "8hArxLQ3eI30",
        "colab": {
          "base_uri": "https://localhost:8080/"
        },
        "outputId": "fb976028-c4e7-4104-a1b3-396b55c9ea3a"
      },
      "source": [
        "def fun():\n",
        "  print('Hello World')\n",
        "fun()"
      ],
      "execution_count": null,
      "outputs": [
        {
          "output_type": "stream",
          "text": [
            "Hello World\n"
          ],
          "name": "stdout"
        }
      ]
    },
    {
      "cell_type": "markdown",
      "metadata": {
        "id": "AEytpP9-QZnm"
      },
      "source": [
        "**[Slide No. 69]**\n",
        "\n",
        "2. Write a function to print  Hello four times ."
      ]
    },
    {
      "cell_type": "code",
      "metadata": {
        "id": "PZWc8iKUeI32",
        "colab": {
          "base_uri": "https://localhost:8080/"
        },
        "outputId": "ebb8695f-ce7d-4fc7-cbbc-8af3c95e1796"
      },
      "source": [
        "def sayhello():\n",
        "  for i in range(4):\n",
        "   print('Hello')\n",
        "sayhello()"
      ],
      "execution_count": null,
      "outputs": [
        {
          "output_type": "stream",
          "text": [
            "Hello\n",
            "Hello\n",
            "Hello\n",
            "Hello\n"
          ],
          "name": "stdout"
        }
      ]
    },
    {
      "cell_type": "markdown",
      "metadata": {
        "id": "Muh15NjoQZqU"
      },
      "source": [
        "**[Slide No. 69]**\n",
        "\n",
        "3. Write a function to find the diff, add , mul of two numbers."
      ]
    },
    {
      "cell_type": "code",
      "metadata": {
        "id": "EB_uPH4_eI33",
        "colab": {
          "base_uri": "https://localhost:8080/"
        },
        "outputId": "e3e759c7-adb8-44f4-8547-b3102d9b9285"
      },
      "source": [
        "def calcu():\n",
        "   num1 = int(input(\"Enter First Number: \"))\n",
        "   num2 = int(input(\"Enter Second Number: \"))\n",
        "\n",
        "   print(\"Enter which operation would you like to perform?\")\n",
        "   x = input(\"Enter any of these char for specific operation +,-,*,/: \")\n",
        "\n",
        "   result = 0\n",
        "   if x == '+':\n",
        "      result = num1 + num2\n",
        "   elif x == '-':\n",
        "      result = num1 - num2\n",
        "   elif x == '*':\n",
        "      result = num1 * num2\n",
        "   elif x == '/':\n",
        "      result = num1 / num2\n",
        "   else:\n",
        "      print(\"Input character is not recognized!\")\n",
        "\n",
        "   print(num1, x, num2, \":\", result)\n",
        "calcu()"
      ],
      "execution_count": null,
      "outputs": [
        {
          "output_type": "stream",
          "text": [
            "Enter First Number: 5\n",
            "Enter Second Number: 4\n",
            "Enter which operation would you like to perform?\n",
            "Enter any of these char for specific operation +,-,*,/: *\n",
            "5 * 4 : 20\n"
          ],
          "name": "stdout"
        }
      ]
    },
    {
      "cell_type": "markdown",
      "metadata": {
        "id": "YxdYhJt_QZso"
      },
      "source": [
        "**[Slide No. 69]**\n",
        "\n",
        " 4. Write the function to find the factorial of a number ."
      ]
    },
    {
      "cell_type": "code",
      "metadata": {
        "id": "WKZ7rpbXeI34",
        "colab": {
          "base_uri": "https://localhost:8080/"
        },
        "outputId": "644355ec-dafd-495b-919c-b54ee4aeefcf"
      },
      "source": [
        "def factorial(n):\n",
        "    num = int(input(\"Enter a number: \"))    \n",
        "    factorial = 1    \n",
        "    if num < 0:    \n",
        "       print(\" Factorial does not exist for negative numbers\")    \n",
        "    elif num == 0:    \n",
        "       print(\"The factorial of 0 is 1\")    \n",
        "    else:    \n",
        "       for i in range(1,num + 1):    \n",
        "          factorial = factorial*i    \n",
        "    print(\"The factorial of\",num,\"is\",factorial)\n",
        "factorial(n)"
      ],
      "execution_count": null,
      "outputs": [
        {
          "output_type": "stream",
          "text": [
            "Enter a number: 5\n",
            "The factorial of 5 is 120\n"
          ],
          "name": "stdout"
        }
      ]
    },
    {
      "cell_type": "markdown",
      "metadata": {
        "id": "DSKYQlqEQZwq"
      },
      "source": [
        "**[Slide No. 69]**\n",
        "\n",
        "5. Write a function to find the square of a number "
      ]
    },
    {
      "cell_type": "code",
      "metadata": {
        "id": "2tRoMbJneI35",
        "colab": {
          "base_uri": "https://localhost:8080/"
        },
        "outputId": "3fc6dc5c-9c1a-4d3c-b0ea-99d270397eb1"
      },
      "source": [
        "def sqr(a):\n",
        "   s=a**2\n",
        "   return(s)\n",
        "n=int(input())\n",
        "res=sqr(n)\n",
        "sqr(n)"
      ],
      "execution_count": null,
      "outputs": [
        {
          "output_type": "stream",
          "text": [
            "5\n"
          ],
          "name": "stdout"
        },
        {
          "output_type": "execute_result",
          "data": {
            "text/plain": [
              "25"
            ]
          },
          "metadata": {
            "tags": []
          },
          "execution_count": 24
        }
      ]
    },
    {
      "cell_type": "markdown",
      "metadata": {
        "id": "jUYHpxnoT9Ef"
      },
      "source": [
        "**[Slide No. 69]**\n",
        "\n",
        "6. Write the output of the program \n",
        "\n"
      ]
    },
    {
      "cell_type": "code",
      "metadata": {
        "id": "ZzdBo-VkeI36"
      },
      "source": [
        ""
      ],
      "execution_count": null,
      "outputs": []
    },
    {
      "cell_type": "markdown",
      "metadata": {
        "id": "yVUoKQsoV8d_"
      },
      "source": [
        "**[Slide No. 73]**\n",
        "\n",
        "7. Check the output of the program:\n",
        "\n",
        "myAdd = lambda x, y,z: x + y+z\n",
        "\n",
        "print (myAdd(6, 10,15))\n",
        "\n",
        "print (myAdd(7, 20,4))\n",
        "\n",
        "print (type(myAdd))"
      ]
    },
    {
      "cell_type": "code",
      "metadata": {
        "id": "N_Sqbm2beI36",
        "colab": {
          "base_uri": "https://localhost:8080/"
        },
        "outputId": "d7b5b6c9-60c4-425b-bd08-7646494ba000"
      },
      "source": [
        "myAdd = lambda x, y,z: x + y+z\n",
        "\n",
        "print (myAdd(6, 10,15))\n",
        "\n",
        "print (myAdd(7, 20,4))\n",
        "\n",
        "print (type(myAdd))"
      ],
      "execution_count": null,
      "outputs": [
        {
          "output_type": "stream",
          "text": [
            "31\n",
            "31\n",
            "<class 'function'>\n"
          ],
          "name": "stdout"
        }
      ]
    },
    {
      "cell_type": "markdown",
      "metadata": {
        "id": "LRC5kSgo2uqt"
      },
      "source": [
        "**[Slide No. 73]**\n",
        "\n",
        "8. Write a Python program to create a lambda function that adds 15 to a given number passed in as an argument."
      ]
    },
    {
      "cell_type": "code",
      "metadata": {
        "id": "_RIobTypeI37",
        "colab": {
          "base_uri": "https://localhost:8080/"
        },
        "outputId": "0993fd48-6eff-4408-d86b-58a84b696c2f"
      },
      "source": [
        "r = lambda a : a + 15\n",
        "print(r(25))"
      ],
      "execution_count": null,
      "outputs": [
        {
          "output_type": "stream",
          "text": [
            "40\n"
          ],
          "name": "stdout"
        }
      ]
    },
    {
      "cell_type": "markdown",
      "metadata": {
        "id": "KaRTkOYQ3PYc"
      },
      "source": [
        "**[Slide No. 73]**\n",
        "\n",
        "9. create a lambda function that multiplies argument x with argument y and print the result."
      ]
    },
    {
      "cell_type": "code",
      "metadata": {
        "id": "AI4cpLZPd-pH",
        "colab": {
          "base_uri": "https://localhost:8080/"
        },
        "outputId": "52b72084-4eea-4631-98e9-e64d29a2ac58"
      },
      "source": [
        "a = lambda x,y: x*y\n",
        "print(a(12,3))"
      ],
      "execution_count": null,
      "outputs": [
        {
          "output_type": "stream",
          "text": [
            "36\n"
          ],
          "name": "stdout"
        }
      ]
    }
  ]
}