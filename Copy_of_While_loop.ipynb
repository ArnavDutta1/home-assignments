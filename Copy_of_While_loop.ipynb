{
  "nbformat": 4,
  "nbformat_minor": 5,
  "metadata": {
    "kernelspec": {
      "display_name": "Python 3",
      "language": "python",
      "name": "python3"
    },
    "language_info": {
      "codemirror_mode": {
        "name": "ipython",
        "version": 3
      },
      "file_extension": ".py",
      "mimetype": "text/x-python",
      "name": "python",
      "nbconvert_exporter": "python",
      "pygments_lexer": "ipython3",
      "version": "3.8.8"
    },
    "colab": {
      "name": "Copy of While_loop.ipynb",
      "provenance": [],
      "collapsed_sections": [],
      "include_colab_link": true
    }
  },
  "cells": [
    {
      "cell_type": "markdown",
      "metadata": {
        "id": "view-in-github",
        "colab_type": "text"
      },
      "source": [
        "<a href=\"https://colab.research.google.com/github/ArnavDutta1/home-assignments/blob/main/Copy_of_While_loop.ipynb\" target=\"_parent\"><img src=\"https://colab.research.google.com/assets/colab-badge.svg\" alt=\"Open In Colab\"/></a>"
      ]
    },
    {
      "cell_type": "markdown",
      "metadata": {
        "id": "12a21a25"
      },
      "source": [
        "# 1. Print multiplication table of 24 and 50 upto 10"
      ],
      "id": "12a21a25"
    },
    {
      "cell_type": "code",
      "metadata": {
        "colab": {
          "base_uri": "https://localhost:8080/"
        },
        "id": "0bf5e71c",
        "outputId": "33f5196a-1e80-4304-e61d-f5b598f81288"
      },
      "source": [
        "num=int(input('enter your number'))\n",
        "i=1\n",
        "while i<=10:\n",
        "    print(num,'x',i,'=',num*i)\n",
        "    i=i+1"
      ],
      "id": "0bf5e71c",
      "execution_count": null,
      "outputs": [
        {
          "output_type": "stream",
          "text": [
            "enter your number24\n",
            "24 x 1 = 24\n",
            "24 x 2 = 48\n",
            "24 x 3 = 72\n",
            "24 x 4 = 96\n",
            "24 x 5 = 120\n",
            "24 x 6 = 144\n",
            "24 x 7 = 168\n",
            "24 x 8 = 192\n",
            "24 x 9 = 216\n",
            "24 x 10 = 240\n"
          ],
          "name": "stdout"
        }
      ]
    },
    {
      "cell_type": "markdown",
      "metadata": {
        "id": "7f08437c"
      },
      "source": [
        "# 2.Write a while loop statement to print the following series 107,100,93,86....9"
      ],
      "id": "7f08437c"
    },
    {
      "cell_type": "code",
      "metadata": {
        "colab": {
          "base_uri": "https://localhost:8080/"
        },
        "id": "7bc3f5f6",
        "outputId": "62b5448c-15a8-4cae-8b61-bd96c90d72cf"
      },
      "source": [
        "l1=[]\n",
        "i=114\n",
        "n=7\n",
        "while i>9:\n",
        "   i=i-7\n",
        "   l1.append(i)\n",
        "print(l1)"
      ],
      "id": "7bc3f5f6",
      "execution_count": null,
      "outputs": [
        {
          "output_type": "stream",
          "text": [
            "[107, 100, 93, 86, 79, 72, 65, 58, 51, 44, 37, 30, 23, 16, 9]\n"
          ],
          "name": "stdout"
        }
      ]
    },
    {
      "cell_type": "markdown",
      "metadata": {
        "id": "2b08396b"
      },
      "source": [
        "# 3. Write a program to print the factorial of a number accepted from user."
      ],
      "id": "2b08396b"
    },
    {
      "cell_type": "code",
      "metadata": {
        "colab": {
          "base_uri": "https://localhost:8080/"
        },
        "id": "9a683d50",
        "outputId": "7a69ee51-e13d-4371-d401-353f537761b3"
      },
      "source": [
        " n=0\n",
        "i=int(input('enter your number'))\n",
        "count=i\n",
        "fact=1\n",
        "while count>0:\n",
        "  for i in range(1,i+1):\n",
        "    fact= fact*i\n",
        "    count=count-1\n",
        "print(fact)\n"
      ],
      "id": "9a683d50",
      "execution_count": null,
      "outputs": [
        {
          "output_type": "stream",
          "text": [
            "enter your number5\n",
            "120\n"
          ],
          "name": "stdout"
        }
      ]
    },
    {
      "cell_type": "markdown",
      "metadata": {
        "id": "e89a712d"
      },
      "source": [
        "# 4.Write a program to accept 10 numbers from the user and display it’s average"
      ],
      "id": "e89a712d"
    },
    {
      "cell_type": "code",
      "metadata": {
        "id": "239568a8",
        "colab": {
          "base_uri": "https://localhost:8080/"
        },
        "outputId": "e323d1f4-6fc1-4c9b-b1c0-6b24d34bfc8e"
      },
      "source": [
        "sum=0\n",
        "i=0\n",
        "while(i<10):\n",
        "    num=int(input('Enter number'))\n",
        "    sum=sum+num\n",
        "    i=i+1\n",
        "print('The sum is',sum)    \n",
        "print(\"average is\",sum/10)"
      ],
      "id": "239568a8",
      "execution_count": null,
      "outputs": [
        {
          "output_type": "stream",
          "text": [
            "Enter number1\n",
            "Enter number2\n",
            "Enter number3\n",
            "Enter number4\n",
            "Enter number5\n",
            "Enter number6\n",
            "Enter number7\n",
            "Enter number8\n",
            "Enter number9\n",
            "Enter number10\n",
            "The sum is 55\n",
            "average is 5.5\n"
          ],
          "name": "stdout"
        }
      ]
    },
    {
      "cell_type": "markdown",
      "metadata": {
        "id": "c06789e5"
      },
      "source": [
        "# 5. Write a program to print the following series till n terms. 2 , 22 , 222 , 2222 _ _ _ _ _ n terms"
      ],
      "id": "c06789e5"
    },
    {
      "cell_type": "code",
      "metadata": {
        "id": "4254784c",
        "colab": {
          "base_uri": "https://localhost:8080/"
        },
        "outputId": "4a37d135-397e-4217-caa1-bdbeccca6634"
      },
      "source": [
        "i=0\n",
        "a='2'\n",
        "num=int(input(\"enter number\"))\n",
        "while(i<num):\n",
        "    print(a,end=\",\")\n",
        "    a=a+'2'\n",
        "    i=i+1"
      ],
      "id": "4254784c",
      "execution_count": null,
      "outputs": [
        {
          "output_type": "stream",
          "text": [
            "enter number5\n",
            "2,22,222,2222,22222,"
          ],
          "name": "stdout"
        }
      ]
    },
    {
      "cell_type": "markdown",
      "metadata": {
        "id": "e112e4f2"
      },
      "source": [
        "# 6.Write a Program to print all the characters in the string ‘PYTHON’ using while loop."
      ],
      "id": "e112e4f2"
    },
    {
      "cell_type": "code",
      "metadata": {
        "id": "94c69f7c",
        "colab": {
          "base_uri": "https://localhost:8080/"
        },
        "outputId": "974a8044-259d-42ce-81bc-1f95ce99c283"
      },
      "source": [
        "a=input('enter your word:')\n",
        "i=0\n",
        "while (i < len(a)):\n",
        "    print(a[i])\n",
        "    i=i+1"
      ],
      "id": "94c69f7c",
      "execution_count": null,
      "outputs": [
        {
          "output_type": "stream",
          "text": [
            "enter your word:python\n",
            "p\n",
            "y\n",
            "t\n",
            "h\n",
            "o\n",
            "n\n"
          ],
          "name": "stdout"
        }
      ]
    },
    {
      "cell_type": "code",
      "metadata": {
        "id": "BKDqtD9xMpB0"
      },
      "source": [
        ""
      ],
      "id": "BKDqtD9xMpB0",
      "execution_count": null,
      "outputs": []
    }
  ]
}